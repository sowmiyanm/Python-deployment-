{
 "cells": [
  {
   "cell_type": "code",
   "execution_count": 1,
   "metadata": {
    "collapsed": true
   },
   "outputs": [],
   "source": [
    "import pandas as pd\n",
    "import matplotlib\n",
    "import numpy as np\n",
    "import matplotlib.pyplot as plt\n",
    "import seaborn as sns\n",
    "%matplotlib inline"
   ]
  },
  {
   "cell_type": "code",
   "execution_count": 2,
   "metadata": {
    "collapsed": true
   },
   "outputs": [],
   "source": [
    "invoice=pd.read_csv(\"Invoice_Export.csv\")\n",
    "modality=pd.read_csv(\"Modality.csv\")\n",
    "modality_pl=pd.read_csv(\"Mod_PL.csv\")"
   ]
  },
  {
   "cell_type": "markdown",
   "metadata": {},
   "source": [
    "## Merging the files\n",
    "- About the data, only 57 Modality description available"
   ]
  },
  {
   "cell_type": "code",
   "execution_count": 3,
   "metadata": {
    "collapsed": true
   },
   "outputs": [],
   "source": [
    "mod_data=pd.merge(modality,modality_pl,left_on='PSI_MODALITY',right_on='Modality',how=\"left\")\n",
    "invoice_data=pd.merge(invoice,mod_data,on='PSI_CODE',how=\"left\")"
   ]
  },
  {
   "cell_type": "code",
   "execution_count": 4,
   "metadata": {},
   "outputs": [
    {
     "data": {
      "text/plain": [
       "(28064, 16)"
      ]
     },
     "execution_count": 4,
     "metadata": {},
     "output_type": "execute_result"
    }
   ],
   "source": [
    "invoice_data.shape"
   ]
  },
  {
   "cell_type": "markdown",
   "metadata": {},
   "source": [
    "## Check the data quality given to us"
   ]
  },
  {
   "cell_type": "code",
   "execution_count": 5,
   "metadata": {},
   "outputs": [
    {
     "data": {
      "text/plain": [
       "CUSTOMER_NUMBER         0.000000\n",
       "CUSTOMER_NAME           0.000000\n",
       "SALES_ORDER             0.000000\n",
       "FUL_SET                 0.000000\n",
       "PSI_CODE                0.000000\n",
       "INV_NUMBER              0.000000\n",
       "INV_DATE                0.000000\n",
       "DUE_DATE                0.000000\n",
       "ACTUAL_DATE_CLOSED      0.000000\n",
       "AMOUNT_DUE_ORIGINAL     0.000000\n",
       "PSI_CODE_DESCRIPTION    0.003563\n",
       "PSI_MODALITY            0.003563\n",
       "MOD_DESCRIPTION         0.003563\n",
       "Modality                0.142531\n",
       "DESCRIPTION             0.142531\n",
       "HC_PRODUCT_PANDL        0.142531\n",
       "dtype: float64"
      ]
     },
     "execution_count": 5,
     "metadata": {},
     "output_type": "execute_result"
    }
   ],
   "source": [
    "invoice_data.isna().sum()/invoice_data.shape[0]*100"
   ]
  },
  {
   "cell_type": "markdown",
   "metadata": {},
   "source": [
    "## Unique values in the data"
   ]
  },
  {
   "cell_type": "code",
   "execution_count": 6,
   "metadata": {},
   "outputs": [
    {
     "data": {
      "text/plain": [
       "CUSTOMER_NUMBER          3068\n",
       "CUSTOMER_NAME            2918\n",
       "SALES_ORDER             15862\n",
       "FUL_SET                    54\n",
       "PSI_CODE                  538\n",
       "INV_NUMBER              28050\n",
       "INV_DATE                  910\n",
       "DUE_DATE                 1070\n",
       "ACTUAL_DATE_CLOSED        880\n",
       "AMOUNT_DUE_ORIGINAL     21943\n",
       "PSI_CODE_DESCRIPTION      534\n",
       "PSI_MODALITY               23\n",
       "MOD_DESCRIPTION            23\n",
       "Modality                   22\n",
       "DESCRIPTION                22\n",
       "HC_PRODUCT_PANDL            3\n",
       "dtype: int64"
      ]
     },
     "execution_count": 6,
     "metadata": {},
     "output_type": "execute_result"
    }
   ],
   "source": [
    "invoice_data.nunique()"
   ]
  },
  {
   "cell_type": "markdown",
   "metadata": {},
   "source": [
    "- Total Customers : 3068\n",
    "- 2 years of invoice data : 01-APR-15 To 31-OCT-17\n",
    "- Total Invoice generated : 28050\n",
    "- Amt. of Total Invoive : 4112977868.59\n",
    "- About 66% invoices gets cleared on or before time"
   ]
  },
  {
   "cell_type": "code",
   "execution_count": 7,
   "metadata": {
    "collapsed": true
   },
   "outputs": [],
   "source": [
    "col_to_dates=(\"INV_DATE\",'DUE_DATE','ACTUAL_DATE_CLOSED')\n",
    "for i in col_to_dates:\n",
    "    invoice_data[i]=pd.to_datetime(invoice_data[i])"
   ]
  },
  {
   "cell_type": "code",
   "execution_count": 8,
   "metadata": {
    "collapsed": true
   },
   "outputs": [],
   "source": [
    "invoice_data[\"inv_month\"]=invoice_data.INV_DATE.dt.month\n",
    "invoice_data[\"due_month\"]=invoice_data.DUE_DATE.dt.month\n",
    "invoice_data[\"inv_week\"]=invoice_data.INV_DATE.dt.weekofyear\n",
    "invoice_data[\"due_week\"]=invoice_data.DUE_DATE.dt.weekofyear"
   ]
  },
  {
   "cell_type": "code",
   "execution_count": 9,
   "metadata": {},
   "outputs": [
    {
     "data": {
      "text/plain": [
       "CUSTOMER_NUMBER                  int64\n",
       "CUSTOMER_NAME                   object\n",
       "SALES_ORDER                      int64\n",
       "FUL_SET                          int64\n",
       "PSI_CODE                        object\n",
       "INV_NUMBER                       int64\n",
       "INV_DATE                datetime64[ns]\n",
       "DUE_DATE                datetime64[ns]\n",
       "ACTUAL_DATE_CLOSED      datetime64[ns]\n",
       "AMOUNT_DUE_ORIGINAL            float64\n",
       "PSI_CODE_DESCRIPTION            object\n",
       "PSI_MODALITY                   float64\n",
       "MOD_DESCRIPTION                 object\n",
       "Modality                       float64\n",
       "DESCRIPTION                     object\n",
       "HC_PRODUCT_PANDL                object\n",
       "inv_month                        int64\n",
       "due_month                        int64\n",
       "inv_week                         int64\n",
       "due_week                         int64\n",
       "dtype: object"
      ]
     },
     "execution_count": 9,
     "metadata": {},
     "output_type": "execute_result"
    }
   ],
   "source": [
    "invoice_data.dtypes"
   ]
  },
  {
   "cell_type": "code",
   "execution_count": 10,
   "metadata": {},
   "outputs": [
    {
     "data": {
      "text/plain": [
       "count    28064.000000\n",
       "mean        26.877815\n",
       "std         75.648622\n",
       "min      -1105.000000\n",
       "25%         -4.000000\n",
       "50%          7.000000\n",
       "75%         32.000000\n",
       "max        959.000000\n",
       "Name: DaysDelay, dtype: float64"
      ]
     },
     "execution_count": 10,
     "metadata": {},
     "output_type": "execute_result"
    }
   ],
   "source": [
    "invoice_data[\"DaysDelay\"]=(invoice_data.ACTUAL_DATE_CLOSED-invoice_data.DUE_DATE).dt.days\n",
    "invoice_data[\"MonthsGap\"]=invoice_data.DUE_DATE.dt.month-invoice_data.INV_DATE.dt.month\n",
    "invoice_data[\"DaysGap\"]=invoice_data.DUE_DATE.dt.weekofyear-invoice_data.INV_DATE.dt.weekofyear\n",
    "invoice_data.DaysDelay.describe()"
   ]
  },
  {
   "cell_type": "code",
   "execution_count": 11,
   "metadata": {},
   "outputs": [
    {
     "data": {
      "text/html": [
       "<div>\n",
       "<style scoped>\n",
       "    .dataframe tbody tr th:only-of-type {\n",
       "        vertical-align: middle;\n",
       "    }\n",
       "\n",
       "    .dataframe tbody tr th {\n",
       "        vertical-align: top;\n",
       "    }\n",
       "\n",
       "    .dataframe thead th {\n",
       "        text-align: right;\n",
       "    }\n",
       "</style>\n",
       "<table border=\"1\" class=\"dataframe\">\n",
       "  <thead>\n",
       "    <tr style=\"text-align: right;\">\n",
       "      <th></th>\n",
       "      <th>CUSTOMER_NUMBER</th>\n",
       "      <th>CUSTOMER_NAME</th>\n",
       "      <th>SALES_ORDER</th>\n",
       "      <th>FUL_SET</th>\n",
       "      <th>PSI_CODE</th>\n",
       "      <th>INV_NUMBER</th>\n",
       "      <th>INV_DATE</th>\n",
       "      <th>DUE_DATE</th>\n",
       "      <th>ACTUAL_DATE_CLOSED</th>\n",
       "      <th>AMOUNT_DUE_ORIGINAL</th>\n",
       "      <th>...</th>\n",
       "      <th>Modality</th>\n",
       "      <th>DESCRIPTION</th>\n",
       "      <th>HC_PRODUCT_PANDL</th>\n",
       "      <th>inv_month</th>\n",
       "      <th>due_month</th>\n",
       "      <th>inv_week</th>\n",
       "      <th>due_week</th>\n",
       "      <th>DaysDelay</th>\n",
       "      <th>MonthsGap</th>\n",
       "      <th>DaysGap</th>\n",
       "    </tr>\n",
       "  </thead>\n",
       "  <tbody>\n",
       "    <tr>\n",
       "      <th>0</th>\n",
       "      <td>202214</td>\n",
       "      <td>BAPTIST HEALTH MADISONVILLE INC</td>\n",
       "      <td>4412511</td>\n",
       "      <td>1</td>\n",
       "      <td>NUCOTH</td>\n",
       "      <td>500680555</td>\n",
       "      <td>2016-06-24</td>\n",
       "      <td>2016-07-24</td>\n",
       "      <td>2016-08-23</td>\n",
       "      <td>700.00</td>\n",
       "      <td>...</td>\n",
       "      <td>410.0</td>\n",
       "      <td>Nuclear</td>\n",
       "      <td>DI</td>\n",
       "      <td>6</td>\n",
       "      <td>7</td>\n",
       "      <td>25</td>\n",
       "      <td>29</td>\n",
       "      <td>30</td>\n",
       "      <td>1</td>\n",
       "      <td>4</td>\n",
       "    </tr>\n",
       "    <tr>\n",
       "      <th>1</th>\n",
       "      <td>301049</td>\n",
       "      <td>PENN STATE MILTON S HERSHEY MEDICAL CENTER</td>\n",
       "      <td>4272690</td>\n",
       "      <td>1</td>\n",
       "      <td>XMM561</td>\n",
       "      <td>500624193</td>\n",
       "      <td>2015-04-23</td>\n",
       "      <td>2015-05-23</td>\n",
       "      <td>2015-09-15</td>\n",
       "      <td>28855.28</td>\n",
       "      <td>...</td>\n",
       "      <td>140.0</td>\n",
       "      <td>GDXR Mammo</td>\n",
       "      <td>DI</td>\n",
       "      <td>4</td>\n",
       "      <td>5</td>\n",
       "      <td>17</td>\n",
       "      <td>21</td>\n",
       "      <td>115</td>\n",
       "      <td>1</td>\n",
       "      <td>4</td>\n",
       "    </tr>\n",
       "    <tr>\n",
       "      <th>2</th>\n",
       "      <td>1268541</td>\n",
       "      <td>UNIVERSITY OF WISCONSIN MADISON</td>\n",
       "      <td>4376780</td>\n",
       "      <td>11</td>\n",
       "      <td>CTOTH</td>\n",
       "      <td>500681627</td>\n",
       "      <td>2016-07-06</td>\n",
       "      <td>2016-08-05</td>\n",
       "      <td>2016-10-20</td>\n",
       "      <td>9000.00</td>\n",
       "      <td>...</td>\n",
       "      <td>210.0</td>\n",
       "      <td>CT</td>\n",
       "      <td>DI</td>\n",
       "      <td>7</td>\n",
       "      <td>8</td>\n",
       "      <td>27</td>\n",
       "      <td>31</td>\n",
       "      <td>76</td>\n",
       "      <td>1</td>\n",
       "      <td>4</td>\n",
       "    </tr>\n",
       "    <tr>\n",
       "      <th>3</th>\n",
       "      <td>154929</td>\n",
       "      <td>WHEATON FRANCISCAN HEALTHCARE</td>\n",
       "      <td>4410814</td>\n",
       "      <td>1</td>\n",
       "      <td>CTOTH</td>\n",
       "      <td>500681632</td>\n",
       "      <td>2016-07-06</td>\n",
       "      <td>2016-08-05</td>\n",
       "      <td>2016-08-05</td>\n",
       "      <td>400.00</td>\n",
       "      <td>...</td>\n",
       "      <td>210.0</td>\n",
       "      <td>CT</td>\n",
       "      <td>DI</td>\n",
       "      <td>7</td>\n",
       "      <td>8</td>\n",
       "      <td>27</td>\n",
       "      <td>31</td>\n",
       "      <td>0</td>\n",
       "      <td>1</td>\n",
       "      <td>4</td>\n",
       "    </tr>\n",
       "    <tr>\n",
       "      <th>4</th>\n",
       "      <td>409033</td>\n",
       "      <td>GE HFS, LLC</td>\n",
       "      <td>4451250</td>\n",
       "      <td>1</td>\n",
       "      <td>PTCO20</td>\n",
       "      <td>500705919</td>\n",
       "      <td>2017-09-28</td>\n",
       "      <td>2017-12-27</td>\n",
       "      <td>2017-09-30</td>\n",
       "      <td>2622000.01</td>\n",
       "      <td>...</td>\n",
       "      <td>810.0</td>\n",
       "      <td>PET</td>\n",
       "      <td>DI</td>\n",
       "      <td>9</td>\n",
       "      <td>12</td>\n",
       "      <td>39</td>\n",
       "      <td>52</td>\n",
       "      <td>-88</td>\n",
       "      <td>3</td>\n",
       "      <td>13</td>\n",
       "    </tr>\n",
       "  </tbody>\n",
       "</table>\n",
       "<p>5 rows × 23 columns</p>\n",
       "</div>"
      ],
      "text/plain": [
       "   CUSTOMER_NUMBER                               CUSTOMER_NAME  SALES_ORDER  \\\n",
       "0           202214             BAPTIST HEALTH MADISONVILLE INC      4412511   \n",
       "1           301049  PENN STATE MILTON S HERSHEY MEDICAL CENTER      4272690   \n",
       "2          1268541             UNIVERSITY OF WISCONSIN MADISON      4376780   \n",
       "3           154929               WHEATON FRANCISCAN HEALTHCARE      4410814   \n",
       "4           409033                                 GE HFS, LLC      4451250   \n",
       "\n",
       "   FUL_SET PSI_CODE  INV_NUMBER   INV_DATE   DUE_DATE ACTUAL_DATE_CLOSED  \\\n",
       "0        1   NUCOTH   500680555 2016-06-24 2016-07-24         2016-08-23   \n",
       "1        1   XMM561   500624193 2015-04-23 2015-05-23         2015-09-15   \n",
       "2       11    CTOTH   500681627 2016-07-06 2016-08-05         2016-10-20   \n",
       "3        1    CTOTH   500681632 2016-07-06 2016-08-05         2016-08-05   \n",
       "4        1   PTCO20   500705919 2017-09-28 2017-12-27         2017-09-30   \n",
       "\n",
       "   AMOUNT_DUE_ORIGINAL   ...    Modality  DESCRIPTION HC_PRODUCT_PANDL  \\\n",
       "0               700.00   ...       410.0      Nuclear               DI   \n",
       "1             28855.28   ...       140.0   GDXR Mammo               DI   \n",
       "2              9000.00   ...       210.0           CT               DI   \n",
       "3               400.00   ...       210.0           CT               DI   \n",
       "4           2622000.01   ...       810.0          PET               DI   \n",
       "\n",
       "   inv_month due_month inv_week  due_week  DaysDelay  MonthsGap  DaysGap  \n",
       "0          6         7       25        29         30          1        4  \n",
       "1          4         5       17        21        115          1        4  \n",
       "2          7         8       27        31         76          1        4  \n",
       "3          7         8       27        31          0          1        4  \n",
       "4          9        12       39        52        -88          3       13  \n",
       "\n",
       "[5 rows x 23 columns]"
      ]
     },
     "execution_count": 11,
     "metadata": {},
     "output_type": "execute_result"
    }
   ],
   "source": [
    "invoice_data.head(5)"
   ]
  },
  {
   "cell_type": "code",
   "execution_count": 12,
   "metadata": {},
   "outputs": [
    {
     "name": "stdout",
     "output_type": "stream",
     "text": [
      "After Time     66.326967\n",
      "Before Time    31.688284\n",
      "On time         1.984749\n",
      "Name: due_payment_flag, dtype: float64\n"
     ]
    }
   ],
   "source": [
    "def due_payment_flag(x):\n",
    "    if(x==0):\n",
    "        return 'On time'\n",
    "    elif(x<0):\n",
    "        return 'Before Time'\n",
    "    else:\n",
    "        return 'After Time'\n",
    "def late_payment(x):\n",
    "    if(x>0):\n",
    "        return 1\n",
    "    else:\n",
    "        return 0\n",
    "invoice_data['due_payment_flag'] = invoice_data.DaysDelay.apply(due_payment_flag)\n",
    "invoice_data['late_payment_flag'] = invoice_data.DaysDelay.apply(late_payment)\n",
    "print 100*invoice_data.due_payment_flag.value_counts()/28064"
   ]
  },
  {
   "cell_type": "markdown",
   "metadata": {},
   "source": [
    "Lets see how many invoices were cleared on time/and how many after due date"
   ]
  },
  {
   "cell_type": "code",
   "execution_count": 13,
   "metadata": {},
   "outputs": [
    {
     "data": {
      "text/html": [
       "<div>\n",
       "<style scoped>\n",
       "    .dataframe tbody tr th:only-of-type {\n",
       "        vertical-align: middle;\n",
       "    }\n",
       "\n",
       "    .dataframe tbody tr th {\n",
       "        vertical-align: top;\n",
       "    }\n",
       "\n",
       "    .dataframe thead th {\n",
       "        text-align: right;\n",
       "    }\n",
       "</style>\n",
       "<table border=\"1\" class=\"dataframe\">\n",
       "  <thead>\n",
       "    <tr style=\"text-align: right;\">\n",
       "      <th></th>\n",
       "      <th>INV_NUMBER</th>\n",
       "    </tr>\n",
       "    <tr>\n",
       "      <th>due_payment_flag</th>\n",
       "      <th></th>\n",
       "    </tr>\n",
       "  </thead>\n",
       "  <tbody>\n",
       "    <tr>\n",
       "      <th>After Time</th>\n",
       "      <td>18614</td>\n",
       "    </tr>\n",
       "    <tr>\n",
       "      <th>Before Time</th>\n",
       "      <td>8893</td>\n",
       "    </tr>\n",
       "    <tr>\n",
       "      <th>On time</th>\n",
       "      <td>557</td>\n",
       "    </tr>\n",
       "  </tbody>\n",
       "</table>\n",
       "</div>"
      ],
      "text/plain": [
       "                  INV_NUMBER\n",
       "due_payment_flag            \n",
       "After Time             18614\n",
       "Before Time             8893\n",
       "On time                  557"
      ]
     },
     "execution_count": 13,
     "metadata": {},
     "output_type": "execute_result"
    }
   ],
   "source": [
    "data=invoice_data.groupby(\"due_payment_flag\")\n",
    "data=data.agg({\"INV_NUMBER\":'count'})\n",
    "data.head()"
   ]
  },
  {
   "cell_type": "code",
   "execution_count": 14,
   "metadata": {},
   "outputs": [
    {
     "name": "stderr",
     "output_type": "stream",
     "text": [
      "/Users/sowmiyanmorri/anaconda/lib/python2.7/site-packages/seaborn/categorical.py:1428: FutureWarning: remove_na is deprecated and is a private function. Do not use.\n",
      "  stat_data = remove_na(group_data)\n"
     ]
    },
    {
     "data": {
      "text/plain": [
       "<matplotlib.axes._subplots.AxesSubplot at 0x11330a5d0>"
      ]
     },
     "execution_count": 14,
     "metadata": {},
     "output_type": "execute_result"
    },
    {
     "data": {
      "image/png": "[encoded data removed]",
      "text/plain": [
       "<matplotlib.figure.Figure at 0x1124fd750>"
      ]
     },
     "metadata": {},
     "output_type": "display_data"
    }
   ],
   "source": [
    "sns.countplot(x='due_payment_flag',data = invoice_data)"
   ]
  },
  {
   "cell_type": "markdown",
   "metadata": {},
   "source": [
    "Lets see what is the value of dollars coming after due date"
   ]
  },
  {
   "cell_type": "code",
   "execution_count": 15,
   "metadata": {},
   "outputs": [
    {
     "data": {
      "text/html": [
       "<div>\n",
       "<style scoped>\n",
       "    .dataframe tbody tr th:only-of-type {\n",
       "        vertical-align: middle;\n",
       "    }\n",
       "\n",
       "    .dataframe tbody tr th {\n",
       "        vertical-align: top;\n",
       "    }\n",
       "\n",
       "    .dataframe thead th {\n",
       "        text-align: right;\n",
       "    }\n",
       "</style>\n",
       "<table border=\"1\" class=\"dataframe\">\n",
       "  <thead>\n",
       "    <tr style=\"text-align: right;\">\n",
       "      <th></th>\n",
       "      <th>AMOUNT_DUE_ORIGINAL</th>\n",
       "    </tr>\n",
       "    <tr>\n",
       "      <th>due_payment_flag</th>\n",
       "      <th></th>\n",
       "    </tr>\n",
       "  </thead>\n",
       "  <tbody>\n",
       "    <tr>\n",
       "      <th>After Time</th>\n",
       "      <td>128901.458217</td>\n",
       "    </tr>\n",
       "    <tr>\n",
       "      <th>Before Time</th>\n",
       "      <td>183461.162999</td>\n",
       "    </tr>\n",
       "    <tr>\n",
       "      <th>On time</th>\n",
       "      <td>147371.638743</td>\n",
       "    </tr>\n",
       "  </tbody>\n",
       "</table>\n",
       "</div>"
      ],
      "text/plain": [
       "                  AMOUNT_DUE_ORIGINAL\n",
       "due_payment_flag                     \n",
       "After Time              128901.458217\n",
       "Before Time             183461.162999\n",
       "On time                 147371.638743"
      ]
     },
     "execution_count": 15,
     "metadata": {},
     "output_type": "execute_result"
    }
   ],
   "source": [
    "data=invoice_data.groupby(\"due_payment_flag\")\n",
    "data=data.agg({\"AMOUNT_DUE_ORIGINAL\":'mean'})\n",
    "data.head()"
   ]
  },
  {
   "cell_type": "code",
   "execution_count": 16,
   "metadata": {},
   "outputs": [
    {
     "data": {
      "text/plain": [
       "<matplotlib.axes._subplots.AxesSubplot at 0x1128860d0>"
      ]
     },
     "execution_count": 16,
     "metadata": {},
     "output_type": "execute_result"
    },
    {
     "data": {
      "image/png": "[encoded data removed]",
      "text/plain": [
       "<matplotlib.figure.Figure at 0x1127e5310>"
      ]
     },
     "metadata": {},
     "output_type": "display_data"
    }
   ],
   "source": [
    "sns.barplot(x= 'due_payment_flag',y = 'AMOUNT_DUE_ORIGINAL', data = invoice_data , estimator= np.median)"
   ]
  },
  {
   "cell_type": "code",
   "execution_count": 17,
   "metadata": {},
   "outputs": [
    {
     "data": {
      "text/plain": [
       "<matplotlib.axes._subplots.AxesSubplot at 0x1124fdcd0>"
      ]
     },
     "execution_count": 17,
     "metadata": {},
     "output_type": "execute_result"
    },
    {
     "data": {
      "image/png": "[encoded data removed]",
      "text/plain": [
       "<matplotlib.figure.Figure at 0x1127e5190>"
      ]
     },
     "metadata": {},
     "output_type": "display_data"
    }
   ],
   "source": [
    "sns.barplot(x= 'due_payment_flag',y = 'AMOUNT_DUE_ORIGINAL', data = invoice_data , estimator= np.sum)"
   ]
  },
  {
   "cell_type": "markdown",
   "metadata": {},
   "source": [
    "Lets see distribution of how many customer are on time"
   ]
  },
  {
   "cell_type": "code",
   "execution_count": 18,
   "metadata": {
    "collapsed": true
   },
   "outputs": [],
   "source": [
    "customer_analysis=pd.DataFrame(pd.crosstab(invoice_data.CUSTOMER_NAME, invoice_data.due_payment_flag))\n",
    "customer_analysis[\"Customer\"]=customer_analysis.index\n",
    "customer_analysis=customer_analysis.reset_index(drop=True)\n",
    "customer_analysis=customer_analysis[['Customer',\"After Time\",\"Before Time\",\"On time\"]]\n",
    "del customer_analysis.index.name\n",
    "customer_analysis[\"AlwaysLate\"]=np.where((customer_analysis[\"Before Time\"]==0)&(customer_analysis[\"On time\"]==0),\"Late\",\"Sometimeslate\")\n",
    "\n",
    "\n",
    "data=invoice_data.groupby(\"CUSTOMER_NAME\")\n",
    "data=pd.DataFrame(data.agg({\"AMOUNT_DUE_ORIGINAL\":'sum'}))\n",
    "data[\"Customer\"]=data.index\n",
    "\n",
    "\n",
    "customer_analysis=pd.merge(customer_analysis,data,on=\"Customer\",how=\"left\")"
   ]
  },
  {
   "cell_type": "code",
   "execution_count": 19,
   "metadata": {},
   "outputs": [
    {
     "data": {
      "text/plain": [
       "Sometimeslate    59.527073\n",
       "Late             40.472927\n",
       "Name: AlwaysLate, dtype: float64"
      ]
     },
     "execution_count": 19,
     "metadata": {},
     "output_type": "execute_result"
    }
   ],
   "source": [
    "customer_analysis.AlwaysLate.value_counts()/customer_analysis.shape[0]*100"
   ]
  },
  {
   "cell_type": "code",
   "execution_count": 20,
   "metadata": {},
   "outputs": [
    {
     "data": {
      "text/plain": [
       "<matplotlib.axes._subplots.AxesSubplot at 0x112e8bd90>"
      ]
     },
     "execution_count": 20,
     "metadata": {},
     "output_type": "execute_result"
    },
    {
     "data": {
      "image/png": "[encoded data removed]",
      "text/plain": [
       "<matplotlib.figure.Figure at 0x112e58fd0>"
      ]
     },
     "metadata": {},
     "output_type": "display_data"
    }
   ],
   "source": [
    "sns.countplot(x='AlwaysLate',data = customer_analysis)"
   ]
  },
  {
   "cell_type": "code",
   "execution_count": 21,
   "metadata": {},
   "outputs": [
    {
     "data": {
      "text/plain": [
       "<matplotlib.axes._subplots.AxesSubplot at 0x112319550>"
      ]
     },
     "execution_count": 21,
     "metadata": {},
     "output_type": "execute_result"
    },
    {
     "data": {
      "image/png": "[encoded data removed]",
      "text/plain": [
       "<matplotlib.figure.Figure at 0x112e9f650>"
      ]
     },
     "metadata": {},
     "output_type": "display_data"
    }
   ],
   "source": [
    "sns.barplot(x= 'AlwaysLate',y = 'AMOUNT_DUE_ORIGINAL', data = customer_analysis , estimator= np.sum)"
   ]
  },
  {
   "cell_type": "code",
   "execution_count": 22,
   "metadata": {},
   "outputs": [
    {
     "name": "stdout",
     "output_type": "stream",
     "text": [
      "4112977868.59\n"
     ]
    },
    {
     "data": {
      "text/html": [
       "<div>\n",
       "<style scoped>\n",
       "    .dataframe tbody tr th:only-of-type {\n",
       "        vertical-align: middle;\n",
       "    }\n",
       "\n",
       "    .dataframe tbody tr th {\n",
       "        vertical-align: top;\n",
       "    }\n",
       "\n",
       "    .dataframe thead th {\n",
       "        text-align: right;\n",
       "    }\n",
       "</style>\n",
       "<table border=\"1\" class=\"dataframe\">\n",
       "  <thead>\n",
       "    <tr style=\"text-align: right;\">\n",
       "      <th></th>\n",
       "      <th>Late</th>\n",
       "      <th>AMOUNT_DUE_ORIGINAL</th>\n",
       "      <th>Percent</th>\n",
       "    </tr>\n",
       "    <tr>\n",
       "      <th>AlwaysLate</th>\n",
       "      <th></th>\n",
       "      <th></th>\n",
       "      <th></th>\n",
       "    </tr>\n",
       "  </thead>\n",
       "  <tbody>\n",
       "    <tr>\n",
       "      <th>Late</th>\n",
       "      <td>Late</td>\n",
       "      <td>5.428868e+08</td>\n",
       "      <td>0.131994</td>\n",
       "    </tr>\n",
       "    <tr>\n",
       "      <th>Sometimeslate</th>\n",
       "      <td>Sometimeslate</td>\n",
       "      <td>3.570091e+09</td>\n",
       "      <td>0.868006</td>\n",
       "    </tr>\n",
       "  </tbody>\n",
       "</table>\n",
       "</div>"
      ],
      "text/plain": [
       "                        Late  AMOUNT_DUE_ORIGINAL   Percent\n",
       "AlwaysLate                                                 \n",
       "Late                    Late         5.428868e+08  0.131994\n",
       "Sometimeslate  Sometimeslate         3.570091e+09  0.868006"
      ]
     },
     "execution_count": 22,
     "metadata": {},
     "output_type": "execute_result"
    }
   ],
   "source": [
    "data=customer_analysis.groupby(\"AlwaysLate\")\n",
    "data=pd.DataFrame(data.agg({\"AMOUNT_DUE_ORIGINAL\":'sum'}))\n",
    "data[\"Late\"]=data.index\n",
    "data=data[[\"Late\",\"AMOUNT_DUE_ORIGINAL\"]]\n",
    "data[\"Percent\"]=data.AMOUNT_DUE_ORIGINAL/data.AMOUNT_DUE_ORIGINAL.sum()\n",
    "print data.AMOUNT_DUE_ORIGINAL.sum()\n",
    "data"
   ]
  },
  {
   "cell_type": "code",
   "execution_count": 23,
   "metadata": {},
   "outputs": [
    {
     "data": {
      "text/plain": [
       "13.199360001567694"
      ]
     },
     "execution_count": 23,
     "metadata": {},
     "output_type": "execute_result"
    }
   ],
   "source": [
    "invoice_data.AMOUNT_DUE_ORIGINAL[invoice_data.CUSTOMER_NAME.isin(customer_analysis.Customer[customer_analysis.AlwaysLate==\"Late\"])].sum()/invoice_data.AMOUNT_DUE_ORIGINAL.sum()*100"
   ]
  },
  {
   "cell_type": "markdown",
   "metadata": {},
   "source": [
    "Lets see distribution of modality wise delay pattern"
   ]
  },
  {
   "cell_type": "code",
   "execution_count": 24,
   "metadata": {},
   "outputs": [
    {
     "data": {
      "text/html": [
       "<div>\n",
       "<style scoped>\n",
       "    .dataframe tbody tr th:only-of-type {\n",
       "        vertical-align: middle;\n",
       "    }\n",
       "\n",
       "    .dataframe tbody tr th {\n",
       "        vertical-align: top;\n",
       "    }\n",
       "\n",
       "    .dataframe thead th {\n",
       "        text-align: right;\n",
       "    }\n",
       "</style>\n",
       "<table border=\"1\" class=\"dataframe\">\n",
       "  <thead>\n",
       "    <tr style=\"text-align: right;\">\n",
       "      <th></th>\n",
       "      <th>DaysDelay</th>\n",
       "    </tr>\n",
       "    <tr>\n",
       "      <th>DESCRIPTION</th>\n",
       "      <th></th>\n",
       "    </tr>\n",
       "  </thead>\n",
       "  <tbody>\n",
       "    <tr>\n",
       "      <th>A and S</th>\n",
       "      <td>37.952419</td>\n",
       "    </tr>\n",
       "    <tr>\n",
       "      <th>AW</th>\n",
       "      <td>33.540299</td>\n",
       "    </tr>\n",
       "    <tr>\n",
       "      <th>CIS Periop</th>\n",
       "      <td>41.000000</td>\n",
       "    </tr>\n",
       "    <tr>\n",
       "      <th>CT</th>\n",
       "      <td>19.340635</td>\n",
       "    </tr>\n",
       "    <tr>\n",
       "      <th>CVIS</th>\n",
       "      <td>62.514905</td>\n",
       "    </tr>\n",
       "  </tbody>\n",
       "</table>\n",
       "</div>"
      ],
      "text/plain": [
       "             DaysDelay\n",
       "DESCRIPTION           \n",
       "A and S      37.952419\n",
       "AW           33.540299\n",
       "CIS Periop   41.000000\n",
       "CT           19.340635\n",
       "CVIS         62.514905"
      ]
     },
     "execution_count": 24,
     "metadata": {},
     "output_type": "execute_result"
    }
   ],
   "source": [
    "data=invoice_data.groupby('DESCRIPTION')\n",
    "data=data.agg({\"DaysDelay\":'mean'})\n",
    "data.head()"
   ]
  },
  {
   "cell_type": "code",
   "execution_count": 25,
   "metadata": {},
   "outputs": [
    {
     "data": {
      "text/plain": [
       "(array([ 0,  1,  2,  3,  4,  5,  6,  7,  8,  9, 10, 11, 12, 13, 14, 15, 16,\n",
       "        17, 18, 19, 20, 21]), <a list of 22 Text xticklabel objects>)"
      ]
     },
     "execution_count": 25,
     "metadata": {},
     "output_type": "execute_result"
    },
    {
     "data": {
      "image/png": "[encoded data removed]",
      "text/plain": [
       "<matplotlib.figure.Figure at 0x113390490>"
      ]
     },
     "metadata": {},
     "output_type": "display_data"
    }
   ],
   "source": [
    "sns.plt.ylim(0, 120)\n",
    "sns.plt.xlim(0, 500000000000)\n",
    "sns.barplot(x= 'DESCRIPTION',y = 'DaysDelay', data = invoice_data[invoice_data.DaysDelay>=0] , estimator= np.median)\n",
    "import matplotlib.pylab as plt \n",
    "plt.xticks(rotation=90)\n"
   ]
  },
  {
   "cell_type": "markdown",
   "metadata": {},
   "source": [
    "Amount vs Days Delayed Chart"
   ]
  },
  {
   "cell_type": "code",
   "execution_count": 26,
   "metadata": {},
   "outputs": [
    {
     "data": {
      "text/plain": [
       "<seaborn.axisgrid.FacetGrid at 0x1128a2dd0>"
      ]
     },
     "execution_count": 26,
     "metadata": {},
     "output_type": "execute_result"
    },
    {
     "data": {
      "image/png": "[encoded data removed]",
      "text/plain": [
       "<matplotlib.figure.Figure at 0x112fbb290>"
      ]
     },
     "metadata": {},
     "output_type": "display_data"
    }
   ],
   "source": [
    "sns.lmplot(x= 'AMOUNT_DUE_ORIGINAL',y = 'DaysDelay',data = invoice_data,fit_reg=True,order=2,aspect=1.5,scatter_kws={\"s\": 1},)"
   ]
  },
  {
   "cell_type": "markdown",
   "metadata": {},
   "source": [
    "FUL_ST has 53 unique values\n",
    "\n",
    "Relationship of this with Days Delay\n"
   ]
  },
  {
   "cell_type": "code",
   "execution_count": 27,
   "metadata": {},
   "outputs": [
    {
     "data": {
      "text/plain": [
       "(array([ 0,  1,  2,  3,  4,  5,  6,  7,  8,  9, 10, 11, 12, 13, 14, 15, 16,\n",
       "        17, 18, 19, 20, 21, 22, 23, 24, 25, 26, 27, 28, 29, 30, 31, 32, 33,\n",
       "        34, 35, 36, 37, 38, 39, 40, 41, 42, 43, 44, 45, 46]),\n",
       " <a list of 47 Text xticklabel objects>)"
      ]
     },
     "execution_count": 27,
     "metadata": {},
     "output_type": "execute_result"
    },
    {
     "data": {
      "image/png": "[encoded data removed]",
      "text/plain": [
       "<matplotlib.figure.Figure at 0x112fcfb50>"
      ]
     },
     "metadata": {},
     "output_type": "display_data"
    }
   ],
   "source": [
    "sns.plt.ylim(0, 250)\n",
    "sns.plt.xlim(0, 500000000000)\n",
    "sns.barplot(x= 'FUL_SET',y = 'DaysDelay', data = invoice_data[invoice_data.DaysDelay>=0] , estimator= np.median)\n",
    "import matplotlib.pylab as plt \n",
    "plt.xticks(rotation=90)"
   ]
  },
  {
   "cell_type": "code",
   "execution_count": 28,
   "metadata": {},
   "outputs": [
    {
     "data": {
      "text/html": [
       "<div>\n",
       "<style scoped>\n",
       "    .dataframe tbody tr th:only-of-type {\n",
       "        vertical-align: middle;\n",
       "    }\n",
       "\n",
       "    .dataframe tbody tr th {\n",
       "        vertical-align: top;\n",
       "    }\n",
       "\n",
       "    .dataframe thead th {\n",
       "        text-align: right;\n",
       "    }\n",
       "</style>\n",
       "<table border=\"1\" class=\"dataframe\">\n",
       "  <thead>\n",
       "    <tr style=\"text-align: right;\">\n",
       "      <th></th>\n",
       "      <th>CUSTOMER_NAME</th>\n",
       "      <th>Tot_Amt</th>\n",
       "      <th>LP_Rate</th>\n",
       "      <th>Avg_Delays</th>\n",
       "      <th>percentage_Tot_Amt</th>\n",
       "    </tr>\n",
       "  </thead>\n",
       "  <tbody>\n",
       "    <tr>\n",
       "      <th>910</th>\n",
       "      <td>GE HFS, LLC</td>\n",
       "      <td>5.896799e+08</td>\n",
       "      <td>0.049498</td>\n",
       "      <td>-18.701578</td>\n",
       "      <td>14.337054</td>\n",
       "    </tr>\n",
       "    <tr>\n",
       "      <th>2742</th>\n",
       "      <td>VA CHIEF FISCAL DIVISION 901A</td>\n",
       "      <td>1.839103e+08</td>\n",
       "      <td>0.346260</td>\n",
       "      <td>-5.156510</td>\n",
       "      <td>4.471464</td>\n",
       "    </tr>\n",
       "    <tr>\n",
       "      <th>111</th>\n",
       "      <td>ASCENSION HEALTH MINISTRY SERVICE CENTER LLC</td>\n",
       "      <td>4.711951e+07</td>\n",
       "      <td>0.635838</td>\n",
       "      <td>13.624277</td>\n",
       "      <td>1.145630</td>\n",
       "    </tr>\n",
       "    <tr>\n",
       "      <th>1479</th>\n",
       "      <td>MAYO CLINIC</td>\n",
       "      <td>3.589170e+07</td>\n",
       "      <td>0.823308</td>\n",
       "      <td>19.345865</td>\n",
       "      <td>0.872645</td>\n",
       "    </tr>\n",
       "    <tr>\n",
       "      <th>1566</th>\n",
       "      <td>MERCY HEALTH</td>\n",
       "      <td>3.418963e+07</td>\n",
       "      <td>0.594249</td>\n",
       "      <td>16.722045</td>\n",
       "      <td>0.831262</td>\n",
       "    </tr>\n",
       "  </tbody>\n",
       "</table>\n",
       "</div>"
      ],
      "text/plain": [
       "                                     CUSTOMER_NAME       Tot_Amt   LP_Rate  \\\n",
       "910                                    GE HFS, LLC  5.896799e+08  0.049498   \n",
       "2742                 VA CHIEF FISCAL DIVISION 901A  1.839103e+08  0.346260   \n",
       "111   ASCENSION HEALTH MINISTRY SERVICE CENTER LLC  4.711951e+07  0.635838   \n",
       "1479                                   MAYO CLINIC  3.589170e+07  0.823308   \n",
       "1566                                  MERCY HEALTH  3.418963e+07  0.594249   \n",
       "\n",
       "      Avg_Delays  percentage_Tot_Amt  \n",
       "910   -18.701578           14.337054  \n",
       "2742   -5.156510            4.471464  \n",
       "111    13.624277            1.145630  \n",
       "1479   19.345865            0.872645  \n",
       "1566   16.722045            0.831262  "
      ]
     },
     "execution_count": 28,
     "metadata": {},
     "output_type": "execute_result"
    }
   ],
   "source": [
    "agg_values = {'late_payment_flag': np.mean,'AMOUNT_DUE_ORIGINAL':np.sum,'DaysDelay':np.mean}\n",
    "cust_Details = invoice_data.groupby(['CUSTOMER_NAME']).agg(agg_values).reset_index()\n",
    "cust_Details.columns =  ['CUSTOMER_NAME','Tot_Amt','LP_Rate','Avg_Delays']\n",
    "cust_Details['percentage_Tot_Amt'] = 100*cust_Details.Tot_Amt / sum(cust_Details.Tot_Amt)\n",
    "cust_Details.sort_values(by='percentage_Tot_Amt',ascending=False,inplace=True)\n",
    "cust_Details.head()"
   ]
  },
  {
   "cell_type": "code",
   "execution_count": 29,
   "metadata": {},
   "outputs": [
    {
     "data": {
      "text/plain": [
       "<matplotlib.axes._subplots.AxesSubplot at 0x1142dc9d0>"
      ]
     },
     "execution_count": 29,
     "metadata": {},
     "output_type": "execute_result"
    },
    {
     "data": {
      "image/png": "[encoded data removed]",
      "text/plain": [
       "<matplotlib.figure.Figure at 0x11354d810>"
      ]
     },
     "metadata": {},
     "output_type": "display_data"
    }
   ],
   "source": [
    "##Distribution by Average Delays\n",
    "\n",
    "sns.distplot(cust_Details.Avg_Delays) ## Custumer Distrubution by Sales Vol"
   ]
  },
  {
   "cell_type": "code",
   "execution_count": 30,
   "metadata": {},
   "outputs": [
    {
     "data": {
      "text/plain": [
       "<matplotlib.axes._subplots.AxesSubplot at 0x113b4b490>"
      ]
     },
     "execution_count": 30,
     "metadata": {},
     "output_type": "execute_result"
    },
    {
     "data": {
      "image/png": "[encoded data removed]",
      "text/plain": [
       "<matplotlib.figure.Figure at 0x11ad24dd0>"
      ]
     },
     "metadata": {},
     "output_type": "display_data"
    }
   ],
   "source": [
    "##Distribution by LP_Rate\n",
    "\n",
    "sns.distplot(cust_Details.LP_Rate)"
   ]
  },
  {
   "cell_type": "code",
   "execution_count": 31,
   "metadata": {},
   "outputs": [
    {
     "name": "stdout",
     "output_type": "stream",
     "text": [
      "(1181, 5)\n",
      "13.1993600016\n"
     ]
    }
   ],
   "source": [
    "cust_Details.sort_values(by='LP_Rate',inplace=True,ascending=False)\n",
    "print cust_Details[cust_Details.LP_Rate==1].shape\n",
    "print cust_Details[cust_Details.LP_Rate==1].percentage_Tot_Amt.sum()"
   ]
  },
  {
   "cell_type": "code",
   "execution_count": 32,
   "metadata": {},
   "outputs": [],
   "source": [
    "PSI_LP_Rate = invoice_data.groupby(['PSI_CODE']).agg({'late_payment_flag':np.mean}).reset_index()\n",
    "PSI_LP_Rate.columns = ['PSI_CODE','PSI_LPR']"
   ]
  },
  {
   "cell_type": "code",
   "execution_count": 33,
   "metadata": {
    "collapsed": true
   },
   "outputs": [],
   "source": [
    "## Modelling exercise\n",
    "# Predict due date for a customer"
   ]
  },
  {
   "cell_type": "code",
   "execution_count": 34,
   "metadata": {},
   "outputs": [],
   "source": [
    "invoice_data = pd.merge(invoice_data,cust_Details[['CUSTOMER_NAME','LP_Rate','Avg_Delays']],how='left',on='CUSTOMER_NAME')\n",
    "invoice_data = pd.merge(invoice_data,PSI_LP_Rate[['PSI_CODE','PSI_LPR']],how='left',on='PSI_CODE')"
   ]
  },
  {
   "cell_type": "code",
   "execution_count": 35,
   "metadata": {},
   "outputs": [
    {
     "data": {
      "text/html": [
       "<div>\n",
       "<style scoped>\n",
       "    .dataframe tbody tr th:only-of-type {\n",
       "        vertical-align: middle;\n",
       "    }\n",
       "\n",
       "    .dataframe tbody tr th {\n",
       "        vertical-align: top;\n",
       "    }\n",
       "\n",
       "    .dataframe thead th {\n",
       "        text-align: right;\n",
       "    }\n",
       "</style>\n",
       "<table border=\"1\" class=\"dataframe\">\n",
       "  <thead>\n",
       "    <tr style=\"text-align: right;\">\n",
       "      <th></th>\n",
       "      <th>CUSTOMER_NUMBER</th>\n",
       "      <th>CUSTOMER_NAME</th>\n",
       "      <th>SALES_ORDER</th>\n",
       "      <th>FUL_SET</th>\n",
       "      <th>PSI_CODE</th>\n",
       "      <th>INV_NUMBER</th>\n",
       "      <th>INV_DATE</th>\n",
       "      <th>DUE_DATE</th>\n",
       "      <th>ACTUAL_DATE_CLOSED</th>\n",
       "      <th>AMOUNT_DUE_ORIGINAL</th>\n",
       "      <th>...</th>\n",
       "      <th>inv_week</th>\n",
       "      <th>due_week</th>\n",
       "      <th>DaysDelay</th>\n",
       "      <th>MonthsGap</th>\n",
       "      <th>DaysGap</th>\n",
       "      <th>due_payment_flag</th>\n",
       "      <th>late_payment_flag</th>\n",
       "      <th>LP_Rate</th>\n",
       "      <th>Avg_Delays</th>\n",
       "      <th>PSI_LPR</th>\n",
       "    </tr>\n",
       "  </thead>\n",
       "  <tbody>\n",
       "    <tr>\n",
       "      <th>0</th>\n",
       "      <td>202214</td>\n",
       "      <td>BAPTIST HEALTH MADISONVILLE INC</td>\n",
       "      <td>4412511</td>\n",
       "      <td>1</td>\n",
       "      <td>NUCOTH</td>\n",
       "      <td>500680555</td>\n",
       "      <td>2016-06-24</td>\n",
       "      <td>2016-07-24</td>\n",
       "      <td>2016-08-23</td>\n",
       "      <td>700.00</td>\n",
       "      <td>...</td>\n",
       "      <td>25</td>\n",
       "      <td>29</td>\n",
       "      <td>30</td>\n",
       "      <td>1</td>\n",
       "      <td>4</td>\n",
       "      <td>After Time</td>\n",
       "      <td>1</td>\n",
       "      <td>1.000000</td>\n",
       "      <td>30.500000</td>\n",
       "      <td>0.707260</td>\n",
       "    </tr>\n",
       "    <tr>\n",
       "      <th>1</th>\n",
       "      <td>301049</td>\n",
       "      <td>PENN STATE MILTON S HERSHEY MEDICAL CENTER</td>\n",
       "      <td>4272690</td>\n",
       "      <td>1</td>\n",
       "      <td>XMM561</td>\n",
       "      <td>500624193</td>\n",
       "      <td>2015-04-23</td>\n",
       "      <td>2015-05-23</td>\n",
       "      <td>2015-09-15</td>\n",
       "      <td>28855.28</td>\n",
       "      <td>...</td>\n",
       "      <td>17</td>\n",
       "      <td>21</td>\n",
       "      <td>115</td>\n",
       "      <td>1</td>\n",
       "      <td>4</td>\n",
       "      <td>After Time</td>\n",
       "      <td>1</td>\n",
       "      <td>1.000000</td>\n",
       "      <td>65.272727</td>\n",
       "      <td>0.673152</td>\n",
       "    </tr>\n",
       "    <tr>\n",
       "      <th>2</th>\n",
       "      <td>1268541</td>\n",
       "      <td>UNIVERSITY OF WISCONSIN MADISON</td>\n",
       "      <td>4376780</td>\n",
       "      <td>11</td>\n",
       "      <td>CTOTH</td>\n",
       "      <td>500681627</td>\n",
       "      <td>2016-07-06</td>\n",
       "      <td>2016-08-05</td>\n",
       "      <td>2016-10-20</td>\n",
       "      <td>9000.00</td>\n",
       "      <td>...</td>\n",
       "      <td>27</td>\n",
       "      <td>31</td>\n",
       "      <td>76</td>\n",
       "      <td>1</td>\n",
       "      <td>4</td>\n",
       "      <td>After Time</td>\n",
       "      <td>1</td>\n",
       "      <td>0.764706</td>\n",
       "      <td>31.911765</td>\n",
       "      <td>0.755006</td>\n",
       "    </tr>\n",
       "    <tr>\n",
       "      <th>3</th>\n",
       "      <td>154929</td>\n",
       "      <td>WHEATON FRANCISCAN HEALTHCARE</td>\n",
       "      <td>4410814</td>\n",
       "      <td>1</td>\n",
       "      <td>CTOTH</td>\n",
       "      <td>500681632</td>\n",
       "      <td>2016-07-06</td>\n",
       "      <td>2016-08-05</td>\n",
       "      <td>2016-08-05</td>\n",
       "      <td>400.00</td>\n",
       "      <td>...</td>\n",
       "      <td>27</td>\n",
       "      <td>31</td>\n",
       "      <td>0</td>\n",
       "      <td>1</td>\n",
       "      <td>4</td>\n",
       "      <td>On time</td>\n",
       "      <td>0</td>\n",
       "      <td>0.916667</td>\n",
       "      <td>26.375000</td>\n",
       "      <td>0.755006</td>\n",
       "    </tr>\n",
       "    <tr>\n",
       "      <th>4</th>\n",
       "      <td>409033</td>\n",
       "      <td>GE HFS, LLC</td>\n",
       "      <td>4451250</td>\n",
       "      <td>1</td>\n",
       "      <td>PTCO20</td>\n",
       "      <td>500705919</td>\n",
       "      <td>2017-09-28</td>\n",
       "      <td>2017-12-27</td>\n",
       "      <td>2017-09-30</td>\n",
       "      <td>2622000.01</td>\n",
       "      <td>...</td>\n",
       "      <td>39</td>\n",
       "      <td>52</td>\n",
       "      <td>-88</td>\n",
       "      <td>3</td>\n",
       "      <td>13</td>\n",
       "      <td>Before Time</td>\n",
       "      <td>0</td>\n",
       "      <td>0.049498</td>\n",
       "      <td>-18.701578</td>\n",
       "      <td>0.428571</td>\n",
       "    </tr>\n",
       "  </tbody>\n",
       "</table>\n",
       "<p>5 rows × 28 columns</p>\n",
       "</div>"
      ],
      "text/plain": [
       "   CUSTOMER_NUMBER                               CUSTOMER_NAME  SALES_ORDER  \\\n",
       "0           202214             BAPTIST HEALTH MADISONVILLE INC      4412511   \n",
       "1           301049  PENN STATE MILTON S HERSHEY MEDICAL CENTER      4272690   \n",
       "2          1268541             UNIVERSITY OF WISCONSIN MADISON      4376780   \n",
       "3           154929               WHEATON FRANCISCAN HEALTHCARE      4410814   \n",
       "4           409033                                 GE HFS, LLC      4451250   \n",
       "\n",
       "   FUL_SET PSI_CODE  INV_NUMBER   INV_DATE   DUE_DATE ACTUAL_DATE_CLOSED  \\\n",
       "0        1   NUCOTH   500680555 2016-06-24 2016-07-24         2016-08-23   \n",
       "1        1   XMM561   500624193 2015-04-23 2015-05-23         2015-09-15   \n",
       "2       11    CTOTH   500681627 2016-07-06 2016-08-05         2016-10-20   \n",
       "3        1    CTOTH   500681632 2016-07-06 2016-08-05         2016-08-05   \n",
       "4        1   PTCO20   500705919 2017-09-28 2017-12-27         2017-09-30   \n",
       "\n",
       "   AMOUNT_DUE_ORIGINAL    ...    inv_week  due_week DaysDelay  MonthsGap  \\\n",
       "0               700.00    ...          25        29        30          1   \n",
       "1             28855.28    ...          17        21       115          1   \n",
       "2              9000.00    ...          27        31        76          1   \n",
       "3               400.00    ...          27        31         0          1   \n",
       "4           2622000.01    ...          39        52       -88          3   \n",
       "\n",
       "  DaysGap due_payment_flag  late_payment_flag   LP_Rate  Avg_Delays   PSI_LPR  \n",
       "0       4       After Time                  1  1.000000   30.500000  0.707260  \n",
       "1       4       After Time                  1  1.000000   65.272727  0.673152  \n",
       "2       4       After Time                  1  0.764706   31.911765  0.755006  \n",
       "3       4          On time                  0  0.916667   26.375000  0.755006  \n",
       "4      13      Before Time                  0  0.049498  -18.701578  0.428571  \n",
       "\n",
       "[5 rows x 28 columns]"
      ]
     },
     "execution_count": 35,
     "metadata": {},
     "output_type": "execute_result"
    }
   ],
   "source": [
    "invoice_data.head()"
   ]
  },
  {
   "cell_type": "code",
   "execution_count": 36,
   "metadata": {},
   "outputs": [
    {
     "data": {
      "text/plain": [
       "Index([u'CUSTOMER_NUMBER', u'CUSTOMER_NAME', u'SALES_ORDER', u'FUL_SET',\n",
       "       u'PSI_CODE', u'INV_NUMBER', u'INV_DATE', u'DUE_DATE',\n",
       "       u'ACTUAL_DATE_CLOSED', u'AMOUNT_DUE_ORIGINAL', u'PSI_CODE_DESCRIPTION',\n",
       "       u'PSI_MODALITY', u'MOD_DESCRIPTION', u'Modality', u'DESCRIPTION',\n",
       "       u'HC_PRODUCT_PANDL', u'inv_month', u'due_month', u'inv_week',\n",
       "       u'due_week', u'DaysDelay', u'MonthsGap', u'DaysGap',\n",
       "       u'due_payment_flag', u'late_payment_flag', u'LP_Rate', u'Avg_Delays',\n",
       "       u'PSI_LPR'],\n",
       "      dtype='object')"
      ]
     },
     "execution_count": 36,
     "metadata": {},
     "output_type": "execute_result"
    }
   ],
   "source": [
    "invoice_data.columns"
   ]
  },
  {
   "cell_type": "code",
   "execution_count": 37,
   "metadata": {},
   "outputs": [],
   "source": [
    "data=invoice_data[['AMOUNT_DUE_ORIGINAL','LP_Rate','MonthsGap','DaysGap',\"Avg_Delays\",'inv_month', 'due_month', 'inv_week',\n",
    "       'due_week','PSI_LPR','PSI_CODE_DESCRIPTION','CUSTOMER_NAME','FUL_SET','DESCRIPTION']]"
   ]
  },
  {
   "cell_type": "code",
   "execution_count": 38,
   "metadata": {},
   "outputs": [
    {
     "name": "stderr",
     "output_type": "stream",
     "text": [
      "/Users/sowmiyanmorri/anaconda/lib/python2.7/site-packages/ipykernel_launcher.py:5: SettingWithCopyWarning: \n",
      "A value is trying to be set on a copy of a slice from a DataFrame.\n",
      "Try using .loc[row_indexer,col_indexer] = value instead\n",
      "\n",
      "See the caveats in the documentation: http://pandas.pydata.org/pandas-docs/stable/indexing.html#indexing-view-versus-copy\n",
      "  \"\"\"\n"
     ]
    },
    {
     "name": "stdout",
     "output_type": "stream",
     "text": [
      "[0]\ttrain-rmse:79.9972+1.35733\ttest-rmse:79.9968+1.36485\n",
      "[1]\ttrain-rmse:79.8576+1.32529\ttest-rmse:79.8667+1.39417\n",
      "[2]\ttrain-rmse:79.7492+1.32695\ttest-rmse:79.762+1.39677\n",
      "[3]\ttrain-rmse:79.5318+1.39419\ttest-rmse:79.5654+1.3494\n",
      "[4]\ttrain-rmse:79.4184+1.39214\ttest-rmse:79.462+1.35567\n",
      "[5]\ttrain-rmse:79.3206+1.38104\ttest-rmse:79.3683+1.36755\n",
      "[6]\ttrain-rmse:79.0522+1.39174\ttest-rmse:79.1099+1.38343\n",
      "[7]\ttrain-rmse:78.8727+1.46421\ttest-rmse:78.9422+1.32738\n",
      "[8]\ttrain-rmse:78.7581+1.46701\ttest-rmse:78.8452+1.31987\n",
      "[9]\ttrain-rmse:78.6682+1.4766\ttest-rmse:78.7647+1.31424\n"
     ]
    }
   ],
   "source": [
    "import xgboost as xgb\n",
    "#Features = ['AMOUNT_DUE_ORIGINAL','LP_Rate','PSI_LPR','PSI_MODALITY','CUSTOMER_NAME','FUL_SET','DESCRIPTION']\n",
    "col=['PSI_CODE_DESCRIPTION','CUSTOMER_NAME','DESCRIPTION']\n",
    "for i in col:\n",
    "    data[i]=data[i].astype('object')\n",
    "    \n",
    "from sklearn import model_selection, preprocessing\n",
    "\n",
    "# for f in invoice_data.columns:\n",
    "#     if invoice_data[f].dtype=='object':\n",
    "#         print(f)\n",
    "#         lbl = preprocessing.LabelEncoder()\n",
    "#         lbl.fit(list(invoice_data[f].values.astype('str')))\n",
    "#         invoice_data[f] = lbl.transform(list(invoice_data[f].values.astype('str')))\n",
    "        \n",
    "for column in col:\n",
    "    temp = pd.get_dummies(pd.Series(data[column]))\n",
    "    data = pd.concat([data,temp],axis=1)\n",
    "    data = data.drop([column],axis=1)\n",
    "\n",
    "X = data\n",
    "y = invoice_data.DaysDelay\n",
    "\n",
    "import xgboost as xgb\n",
    "d_train = xgb.DMatrix(X, label=y)\n",
    "params = {}\n",
    "params['objective'] = 'reg:linear'\n",
    "params['eval_metric'] = 'rmse'\n",
    "params['eta'] = 0.01\n",
    "params['max_depth'] = 3\n",
    "params[\"subsample\"] = 0.7\n",
    "params[\"colsample_bytree\"] = 0.3\n",
    "\n",
    "model = xgb.cv(dtrain=d_train,nfold=2,params=params,num_boost_round=10,verbose_eval=True)"
   ]
  },
  {
   "cell_type": "code",
   "execution_count": 39,
   "metadata": {},
   "outputs": [],
   "source": [
    "bst_model = xgb.train(dtrain=d_train,params=params,num_boost_round=500,verbose_eval=True)"
   ]
  },
  {
   "cell_type": "code",
   "execution_count": 40,
   "metadata": {},
   "outputs": [],
   "source": [
    "xgb_ttrain_x = xgb.DMatrix(X)\n",
    "predicted_Days_Delayed = bst_model.predict(xgb_ttrain_x,ntree_limit=bst_model.best_ntree_limit)\n",
    "invoice_data['predicted_Days_Delayed'] = predicted_Days_Delayed\n",
    "invoice_data['error'] = abs(invoice_data.DaysDelay-invoice_data.predicted_Days_Delayed)"
   ]
  },
  {
   "cell_type": "code",
   "execution_count": 41,
   "metadata": {},
   "outputs": [
    {
     "data": {
      "text/plain": [
       "32.54623794555664"
      ]
     },
     "execution_count": 41,
     "metadata": {},
     "output_type": "execute_result"
    }
   ],
   "source": [
    "invoice_data.error.mean()"
   ]
  },
  {
   "cell_type": "code",
   "execution_count": 42,
   "metadata": {},
   "outputs": [
    {
     "name": "stderr",
     "output_type": "stream",
     "text": [
      "/Users/sowmiyanmorri/anaconda/lib/python2.7/site-packages/sklearn/cross_validation.py:41: DeprecationWarning: This module was deprecated in version 0.18 in favor of the model_selection module into which all the refactored classes and functions are moved. Also note that the interface of the new CV iterators are different from that of this module. This module will be removed in 0.20.\n",
      "  \"This module will be removed in 0.20.\", DeprecationWarning)\n"
     ]
    },
    {
     "name": "stdout",
     "output_type": "stream",
     "text": [
      "(28064, 3485)\n",
      "(28064,)\n",
      "#############Validation-set###############\n"
     ]
    },
    {
     "ename": "NameError",
     "evalue": "name 'math' is not defined",
     "output_type": "error",
     "traceback": [
      "\u001b[0;31m---------------------------------------------------------------------------\u001b[0m",
      "\u001b[0;31mNameError\u001b[0m                                 Traceback (most recent call last)",
      "\u001b[0;32m<ipython-input-42-01d5a6ef0414>\u001b[0m in \u001b[0;36m<module>\u001b[0;34m()\u001b[0m\n\u001b[1;32m     16\u001b[0m \u001b[0;31m# Calculate the Root Mean Squared Error\u001b[0m\u001b[0;34m\u001b[0m\u001b[0;34m\u001b[0m\u001b[0m\n\u001b[1;32m     17\u001b[0m print(\"RMSE: %.2f\"\n\u001b[0;32m---> 18\u001b[0;31m       % math.sqrt(np.mean((rf.predict(X_test) - y_test) ** 2)))\n\u001b[0m\u001b[1;32m     19\u001b[0m \u001b[0mpred_test\u001b[0m\u001b[0;34m=\u001b[0m\u001b[0mrf\u001b[0m\u001b[0;34m.\u001b[0m\u001b[0mpredict\u001b[0m\u001b[0;34m(\u001b[0m\u001b[0mX\u001b[0m\u001b[0;34m)\u001b[0m\u001b[0;34m\u001b[0m\u001b[0m\n\u001b[1;32m     20\u001b[0m \u001b[0;32mprint\u001b[0m \u001b[0;34m(\u001b[0m\u001b[0;34m'#############Test-set###############'\u001b[0m\u001b[0;34m)\u001b[0m\u001b[0;34m\u001b[0m\u001b[0m\n",
      "\u001b[0;31mNameError\u001b[0m: name 'math' is not defined"
     ]
    }
   ],
   "source": [
    "from sklearn.ensemble import RandomForestRegressor\n",
    "from sklearn import cross_validation, tree, linear_model\n",
    "from sklearn.cross_validation import train_test_split\n",
    "X = data.values\n",
    "y = invoice_data.DaysDelay.values\n",
    "\n",
    "print X.shape\n",
    "print y.shape\n",
    "\n",
    "X_train, X_test, y_train, y_test = cross_validation.train_test_split(X, y ,test_size=0.3,random_state=0)\n",
    "rf = rf =  RandomForestRegressor(n_estimators=100, max_features = 'auto', min_samples_leaf = 50, max_depth = 5, oob_score = True, random_state = 2017)\n",
    "\n",
    "rf.fit(X_train, y_train)\n",
    "\n"
   ]
  },
  {
   "cell_type": "code",
   "execution_count": 43,
   "metadata": {},
   "outputs": [
    {
     "name": "stdout",
     "output_type": "stream",
     "text": [
      "#############Validation-set###############\n",
      "RMSE: 60.37\n",
      "#############Test-set###############\n",
      "RMSE: 64.26\n"
     ]
    }
   ],
   "source": [
    "import math\n",
    "print ('#############Validation-set###############')\n",
    "# Calculate the Root Mean Squared Error\n",
    "print(\"RMSE: %.2f\"\n",
    "      % math.sqrt(np.mean((rf.predict(X_test) - y_test) ** 2)))\n",
    "pred_test=rf.predict(X)\n",
    "print ('#############Test-set###############')\n",
    "print(\"RMSE: %.2f\"\n",
    "      % math.sqrt(np.mean((rf.predict(X) - invoice_data.DaysDelay) ** 2)))\n",
    "\n"
   ]
  },
  {
   "cell_type": "code",
   "execution_count": null,
   "metadata": {},
   "outputs": [],
   "source": [
    "invoice_data.head(10)"
   ]
  },
  {
   "cell_type": "code",
   "execution_count": null,
   "metadata": {
    "collapsed": true
   },
   "outputs": [],
   "source": [
    "def importance_XGB(model):\n",
    "    impdf = []\n",
    "    for ft, score in model.get_fscore().iteritems():\n",
    "        impdf.append({'feature': ft, 'importance': score})\n",
    "    impdf = pd.DataFrame(impdf)\n",
    "    impdf = impdf.sort_values(by='importance', ascending=False).reset_index(drop=True)\n",
    "    impdf['importance'] /= impdf['importance'].sum()\n",
    "    return impdf\n",
    "    \n",
    "    importance_XGB(model)"
   ]
  },
  {
   "cell_type": "code",
   "execution_count": null,
   "metadata": {},
   "outputs": [],
   "source": [
    "all_features=importance_XGB(bst_model)\n",
    "all_features.head(10)"
   ]
  },
  {
   "cell_type": "code",
   "execution_count": null,
   "metadata": {},
   "outputs": [],
   "source": [
    "sns.kdeplot(invoice_data.predicted_Days_Delayed,bw=.2, label=\"Predicted Delays\")\n",
    "sns.kdeplot(invoice_data.DaysDelay, bw=.2, label=\"Original Delays\")\n",
    "plt.legend();"
   ]
  },
  {
   "cell_type": "code",
   "execution_count": null,
   "metadata": {
    "collapsed": true
   },
   "outputs": [],
   "source": []
  }
 ],
 "metadata": {
  "kernelspec": {
   "display_name": "Python 2",
   "language": "python",
   "name": "python2"
  },
  "language_info": {
   "codemirror_mode": {
    "name": "ipython",
    "version": 2
   },
   "file_extension": ".py",
   "mimetype": "text/x-python",
   "name": "python",
   "nbconvert_exporter": "python",
   "pygments_lexer": "ipython2",
   "version": "2.7.13"
  }
 },
 "nbformat": 4,
 "nbformat_minor": 2
}
